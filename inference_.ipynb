{
  "cells": [
    {
      "cell_type": "markdown",
      "metadata": {
        "id": "view-in-github",
        "colab_type": "text"
      },
      "source": [
        "<a href=\"https://colab.research.google.com/github/yashfx/Internship-Fx-data-labs/blob/Supervised-learning-problem-%22credit-card-fraud-detection%22/inference_.ipynb\" target=\"_parent\"><img src=\"https://colab.research.google.com/assets/colab-badge.svg\" alt=\"Open In Colab\"/></a>"
      ]
    },
    {
      "cell_type": "code",
      "execution_count": null,
      "id": "2eeabf2c",
      "metadata": {
        "id": "2eeabf2c"
      },
      "outputs": [],
      "source": [
        "import joblib\n",
        "import numpy as np\n",
        "\n",
        "# Load the model from the file\n",
        "model = joblib.load(r\"C:\\Users\\hp\\Downloads\\credit_card_fraud_model6.pkl\")\n",
        "model1 = joblib.load(r\"C:\\Users\\hp\\Downloads\\credit_card_fraud_model7.pkl\")\n",
        "model2 = joblib.load(r\"C:\\Users\\hp\\Downloads\\credit_card_fraud_model8.pkl\")\n"
      ]
    },
    {
      "cell_type": "code",
      "execution_count": null,
      "id": "cff33052",
      "metadata": {
        "id": "cff33052",
        "outputId": "98fa3926-4a6b-4c21-ef76-d6c88f5ac356"
      },
      "outputs": [
        {
          "name": "stdout",
          "output_type": "stream",
          "text": [
            "Legitimate transaction\n"
          ]
        },
        {
          "name": "stderr",
          "output_type": "stream",
          "text": [
            "C:\\Users\\hp\\anaconda3\\Lib\\site-packages\\sklearn\\base.py:439: UserWarning: X does not have valid feature names, but LogisticRegression was fitted with feature names\n",
            "  warnings.warn(\n"
          ]
        }
      ],
      "source": [
        "# Logistic Regression\n",
        "def predict_fraud(features):\n",
        "\n",
        "    # Ensure features are in the correct format (2D array)\n",
        "    features = np.array(features).reshape(1, -1)\n",
        "\n",
        "    # Make prediction\n",
        "    prediction = model.predict(features)\n",
        "\n",
        "    return prediction[0]\n",
        "\n",
        "if __name__ == \"__main__\":\n",
        "    # Example feature set for a single transaction\n",
        "\n",
        "\n",
        "    example_features = [-1.359807134,-0.072781173,2.536346738,1.378155224,\n",
        "                        -0.33832077,0.462387778,0.239598554,0.098697901,0.36378697,0.090794172,\n",
        "                        -0.551599533,-0.617800856,-0.991389847,-0.311169354,1.468176972,-0.470400525,\n",
        "                        0.207971242,0.02579058,0.40399296,0.251412098,-0.018306778,0.277837576,-0.11047391,\n",
        "                        0.066928075,0.128539358,-0.189114844,0.133558377,-0.021053053,149.62,0]\n",
        "\n",
        "    # Predict fraud\n",
        "    result = predict_fraud(example_features)\n",
        "\n",
        "    # Print the result\n",
        "    print(\"Fraudulent transaction\" if result == 1 else \"Legitimate transaction\")"
      ]
    },
    {
      "cell_type": "code",
      "execution_count": null,
      "id": "440a58db",
      "metadata": {
        "id": "440a58db",
        "outputId": "02136ff7-bbc8-455d-a82f-3f0216bc88ff"
      },
      "outputs": [
        {
          "name": "stdout",
          "output_type": "stream",
          "text": [
            "Legitimate transaction\n"
          ]
        },
        {
          "name": "stderr",
          "output_type": "stream",
          "text": [
            "C:\\Users\\hp\\anaconda3\\Lib\\site-packages\\sklearn\\base.py:439: UserWarning: X does not have valid feature names, but SVC was fitted with feature names\n",
            "  warnings.warn(\n"
          ]
        }
      ],
      "source": [
        "# SVM\n",
        "def predict_fraud(features):\n",
        "\n",
        "    # Ensure features are in the correct format (2D array)\n",
        "    features = np.array(features).reshape(1, -1)\n",
        "\n",
        "    # Make prediction\n",
        "    prediction = model1.predict(features)\n",
        "\n",
        "    return prediction[0]\n",
        "\n",
        "if __name__ == \"__main__\":\n",
        "    # Example feature set for a single transaction\n",
        "    example_features = [-1.359807134,-0.072781173,2.536346738,1.378155224,\n",
        "                        -0.33832077,0.462387778,0.239598554,0.098697901,0.36378697,0.090794172,\n",
        "                        -0.551599533,-0.617800856,-0.991389847,-0.311169354,1.468176972,-0.470400525,\n",
        "                        0.207971242,0.02579058,0.40399296,0.251412098,-0.018306778,0.277837576,-0.11047391,\n",
        "                        0.066928075,0.128539358,-0.189114844,0.133558377,-0.021053053,149.62,0]\n",
        "\n",
        "    # Predict fraud\n",
        "    result = predict_fraud(example_features)\n",
        "\n",
        "    # Print the result\n",
        "    print(\"Fraudulent transaction\" if result == 1 else \"Legitimate transaction\")"
      ]
    },
    {
      "cell_type": "code",
      "execution_count": null,
      "id": "305f44bd",
      "metadata": {
        "id": "305f44bd",
        "outputId": "9447cb38-2c84-4d30-e556-c1a0d2b76b88"
      },
      "outputs": [
        {
          "name": "stdout",
          "output_type": "stream",
          "text": [
            "Legitimate transaction\n"
          ]
        },
        {
          "name": "stderr",
          "output_type": "stream",
          "text": [
            "C:\\Users\\hp\\anaconda3\\Lib\\site-packages\\sklearn\\base.py:439: UserWarning: X does not have valid feature names, but DecisionTreeClassifier was fitted with feature names\n",
            "  warnings.warn(\n"
          ]
        }
      ],
      "source": [
        "# Decision tree\n",
        "def predict_fraud(features):\n",
        "\n",
        "    # Ensure features are in the correct format (2D array)\n",
        "    features = np.array(features).reshape(1, -1)\n",
        "\n",
        "    # Make prediction\n",
        "    prediction = model2.predict(features)\n",
        "\n",
        "    return prediction[0]\n",
        "\n",
        "if __name__ == \"__main__\":\n",
        "    # Example feature set for a single transaction\n",
        "    example_features = [-1.359807134,-0.072781173,2.536346738,1.378155224,\n",
        "                        -0.33832077,0.462387778,0.239598554,0.098697901,0.36378697,0.090794172,\n",
        "                        -0.551599533,-0.617800856,-0.991389847,-0.311169354,1.468176972,-0.470400525,\n",
        "                        0.207971242,0.02579058,0.40399296,0.251412098,-0.018306778,0.277837576,-0.11047391,\n",
        "                        0.066928075,0.128539358,-0.189114844,0.133558377,-0.021053053,149.62,0\n",
        "]\n",
        "\n",
        "    # Predict fraud\n",
        "    result = predict_fraud(example_features)\n",
        "\n",
        "    # Print the result\n",
        "    print(\"Fraudulent transaction\" if result == 1 else \"Legitimate transaction\")"
      ]
    },
    {
      "cell_type": "code",
      "execution_count": null,
      "id": "b593695c",
      "metadata": {
        "id": "b593695c"
      },
      "outputs": [],
      "source": []
    }
  ],
  "metadata": {
    "kernelspec": {
      "display_name": "Python 3 (ipykernel)",
      "language": "python",
      "name": "python3"
    },
    "language_info": {
      "codemirror_mode": {
        "name": "ipython",
        "version": 3
      },
      "file_extension": ".py",
      "mimetype": "text/x-python",
      "name": "python",
      "nbconvert_exporter": "python",
      "pygments_lexer": "ipython3",
      "version": "3.11.3"
    },
    "colab": {
      "provenance": [],
      "include_colab_link": true
    }
  },
  "nbformat": 4,
  "nbformat_minor": 5
}