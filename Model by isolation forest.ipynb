{
 "cells": [
  {
   "cell_type": "markdown",
   "id": "a6d7b8d0",
   "metadata": {},
   "source": [
    "Anomalies are rare events or observations that deviate significantly from what is considered normal. Detecting anomalies is crucial in various fields to identify potential security breaches, fraudulent activities, or abnormal health conditions. \n",
    "\n",
    "Isolation forest is a machine learning algorithm specifically designed for anomaly detection. It works by isolating anomalies in a dataset by randomly partitioning the data into subsets. The algorithm then builds an ensemble of trees to isolate anomalies based on how quickly they are separated from the rest of the data. This approach is particularly effective for high-dimensional datasets and is known for its efficiency and scalability."
   ]
  },
  {
   "cell_type": "code",
   "execution_count": 13,
   "id": "fa90aa4a",
   "metadata": {
    "scrolled": true
   },
   "outputs": [
    {
     "name": "stdout",
     "output_type": "stream",
     "text": [
      "Training Accuracy: 0.6624214177324951\n",
      "Training Precision: 0.19181793551882959\n",
      "Training Recall: 0.06952764411273692\n",
      "Training F1 Score: 0.10206140983133918\n",
      "\n",
      "Training Classification Report:\n",
      "               precision    recall  f1-score   support\n",
      "\n",
      "           0       0.71      0.89      0.79     26721\n",
      "           1       0.19      0.07      0.10     10183\n",
      "\n",
      "    accuracy                           0.66     36904\n",
      "   macro avg       0.45      0.48      0.45     36904\n",
      "weighted avg       0.57      0.66      0.60     36904\n",
      "\n"
     ]
    }
   ],
   "source": [
    "import pandas as pd\n",
    "import numpy as np\n",
    "from sklearn.model_selection import train_test_split\n",
    "from sklearn.preprocessing import StandardScaler\n",
    "from sklearn.ensemble import IsolationForest\n",
    "from sklearn.metrics import accuracy_score, precision_score, recall_score, f1_score, classification_report\n",
    "\n",
    "# Loading training data\n",
    "train_path = r\"C:\\Users\\hp\\Downloads\\ML-MATT-CompetitionQT2021_train.csv\"\n",
    "test_path = r\"C:\\Users\\hp\\Downloads\\ML-MATT-CompetitionQT1920_test.csv\"\n",
    "train_data = pd.read_csv(train_path, delimiter=';')\n",
    "test_data = pd.read_csv(test_path, delimiter=';')\n",
    "\n",
    "# 'Unusual' is the target variable in train_data\n",
    "X_train = train_data.drop(columns=['Unusual'])\n",
    "y_train = train_data['Unusual']\n",
    "\n",
    "# Dropping non-numeric columns and handling missing values\n",
    "X_train = X_train.drop(columns=['Time', 'CellName']).apply(pd.to_numeric, errors='coerce').dropna()\n",
    "X_test = test_data.drop(columns=['Time', 'CellName'], errors='ignore').apply(pd.to_numeric, errors='coerce').dropna()\n",
    "\n",
    "# y_train with cleaned X_train\n",
    "y_train = y_train[X_train.index]\n",
    "\n",
    "# Ensure both datasets have the same columns\n",
    "common_columns = X_train.columns.intersection(X_test.columns)\n",
    "X_train = X_train[common_columns]\n",
    "X_test = X_test[common_columns]\n",
    "\n",
    "# Normalize the data\n",
    "#scaler = StandardScaler()\n",
    "#X_train_scaled = scaler.fit_transform(X_train)\n",
    "#X_test_scaled = scaler.transform(X_test)\n",
    "\n",
    "# Outlier detection using Isolation Forest\n",
    "outlier_fraction = 0.1\n",
    "model = IsolationForest(contamination=outlier_fraction, random_state=42)\n",
    "model.fit(X_train_scaled)\n",
    "\n",
    "# Predict on the training data\n",
    "train_preds = model.predict(X_train_scaled)\n",
    "train_preds = np.where(train_preds == 1, 0, 1)  # Convert 1 (inlier) to 0 and -1 (outlier) to 1\n",
    "\n",
    "# Evaluate the model on the training data\n",
    "accuracy = accuracy_score(y_train, train_preds)\n",
    "precision = precision_score(y_train, train_preds)\n",
    "recall = recall_score(y_train, train_preds)\n",
    "f1 = f1_score(y_train, train_preds)\n",
    "\n",
    "print(f\"Training Accuracy: {accuracy}\")\n",
    "print(f\"Training Precision: {precision}\")\n",
    "print(f\"Training Recall: {recall}\")\n",
    "print(f\"Training F1 Score: {f1}\")\n",
    "print(\"\\nTraining Classification Report:\\n\", classification_report(y_train, train_preds))\n"
   ]
  },
  {
   "cell_type": "code",
   "execution_count": null,
   "id": "db77fffd",
   "metadata": {},
   "outputs": [],
   "source": []
  }
 ],
 "metadata": {
  "kernelspec": {
   "display_name": "Python 3 (ipykernel)",
   "language": "python",
   "name": "python3"
  },
  "language_info": {
   "codemirror_mode": {
    "name": "ipython",
    "version": 3
   },
   "file_extension": ".py",
   "mimetype": "text/x-python",
   "name": "python",
   "nbconvert_exporter": "python",
   "pygments_lexer": "ipython3",
   "version": "3.11.3"
  }
 },
 "nbformat": 4,
 "nbformat_minor": 5
}
