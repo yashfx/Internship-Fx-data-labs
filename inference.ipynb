{
 "cells": [
  {
   "cell_type": "code",
   "execution_count": 1,
   "id": "2eeabf2c",
   "metadata": {},
   "outputs": [],
   "source": [
    "import joblib\n",
    "import numpy as np\n",
    "\n",
    "# Load the model from the file\n",
    "model = joblib.load(r\"C:\\Users\\hp\\Downloads\\credit_card_fraud_model6.pkl\")"
   ]
  },
  {
   "cell_type": "code",
   "execution_count": 3,
   "id": "cff33052",
   "metadata": {},
   "outputs": [
    {
     "name": "stdout",
     "output_type": "stream",
     "text": [
      "Legitimate transaction\n"
     ]
    },
    {
     "name": "stderr",
     "output_type": "stream",
     "text": [
      "C:\\Users\\hp\\anaconda3\\Lib\\site-packages\\sklearn\\base.py:439: UserWarning: X does not have valid feature names, but LogisticRegression was fitted with feature names\n",
      "  warnings.warn(\n"
     ]
    }
   ],
   "source": [
    "def predict_fraud(features):\n",
    "    \"\"\"\n",
    "    Predict if a credit card transaction is fraudulent.\n",
    "\n",
    "    Parameters:\n",
    "    - features (list or numpy array): The feature values for the transaction.\n",
    "\n",
    "    Returns:\n",
    "    - int: 1 if the transaction is predicted to be fraudulent, 0 otherwise.\n",
    "    \"\"\"\n",
    "    # Ensure features are in the correct format (2D array)\n",
    "    features = np.array(features).reshape(1, -1)\n",
    "    \n",
    "    # Make prediction\n",
    "    prediction = model.predict(features)\n",
    "    \n",
    "    return prediction[0]\n",
    "\n",
    "if __name__ == \"__main__\":\n",
    "    # Example feature set for a single transaction\n",
    "    example_features = [0.1, -1.2, 3.4, 4.5, -0.5, 2.3, -1.1, 0.4, 1.2, -0.3,\n",
    "                        0.1, -1.2, 3.4, 4.5, -0.5, 2.3, -1.1, 0.4, 1.2, -0.3,\n",
    "                        0.1, -1.2, 3.4, 4.5, -0.5, 2.3, -1.1, 0.4, 1.2, -0.3] ,
    "\n",
    "    # Predict fraud\n",
    "    result = predict_fraud(example_features)\n",
    "    \n",
    "    # Print the result\n",
    "    print(\"Fraudulent transaction\" if result == 1 else \"Legitimate transaction\")"
   ]
  },
  {
   "cell_type": "code",
   "execution_count": null,
   "id": "440a58db",
   "metadata": {},
   "outputs": [],
   "source": []
  }
 ],
 "metadata": {
  "kernelspec": {
   "display_name": "Python 3 (ipykernel)",
   "language": "python",
   "name": "python3"
  },
  "language_info": {
   "codemirror_mode": {
    "name": "ipython",
    "version": 3
   },
   "file_extension": ".py",
   "mimetype": "text/x-python",
   "name": "python",
   "nbconvert_exporter": "python",
   "pygments_lexer": "ipython3",
   "version": "3.11.3"
  }
 },
 "nbformat": 4,
 "nbformat_minor": 5
}
