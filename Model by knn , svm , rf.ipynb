{
 "cells": [
  {
   "cell_type": "markdown",
   "id": "0e18fdeb",
   "metadata": {},
   "source": [
    "# # Anomaly detection for Cellular Networks"
   ]
  },
  {
   "cell_type": "markdown",
   "id": "739bf11e",
   "metadata": {},
   "source": [
    "Anomalies are rare events or observations that deviate significantly from what is considered normal. Detecting anomalies is crucial in various fields to identify potential security breaches, fraudulent activities, or abnormal health conditions.\n",
    "\n",
    "Isolation forest is a machine learning algorithm specifically designed for anomaly detection. It works by isolating anomalies in a dataset by randomly partitioning the data into subsets. The algorithm then builds an ensemble of trees to isolate anomalies based on how quickly they are separated from the rest of the data. This approach is particularly effective for high-dimensional datasets and is known for its efficiency and scalability."
   ]
  },
  {
   "cell_type": "code",
   "execution_count": 1,
   "id": "9533b2ee",
   "metadata": {},
   "outputs": [],
   "source": [
    "import pandas as pd\n",
    "from sklearn.model_selection import train_test_split\n",
    "from sklearn.neighbors import KNeighborsClassifier\n",
    "from sklearn.svm import SVC\n",
    "from sklearn.ensemble import RandomForestClassifier\n",
    "from sklearn.metrics import accuracy_score, precision_score, recall_score, f1_score"
   ]
  },
  {
   "cell_type": "code",
   "execution_count": 2,
   "id": "3f954784",
   "metadata": {},
   "outputs": [],
   "source": [
    "data = pd.read_csv(r\"C:\\Users\\hp\\Downloads\\ML-MATT-CompetitionQT2021_train.csv\", delimiter=';')\n"
   ]
  },
  {
   "cell_type": "code",
   "execution_count": 3,
   "id": "a6ae414d",
   "metadata": {},
   "outputs": [],
   "source": [
    "X = data.drop(columns=['Unusual'])\n",
    "y = data['Unusual']\n",
    "\n",
    "# Convert categorical features to dummy variables if needed\n",
    "X = pd.get_dummies(X, drop_first=True)\n"
   ]
  },
  {
   "cell_type": "code",
   "execution_count": 4,
   "id": "fe3b0f78",
   "metadata": {},
   "outputs": [],
   "source": [
    "X_train, X_test, y_train, y_test = train_test_split(X, y, test_size=0.2, random_state=42)"
   ]
  },
  {
   "cell_type": "code",
   "execution_count": 5,
   "id": "180aaf03",
   "metadata": {},
   "outputs": [],
   "source": [
    "knn = KNeighborsClassifier()\n",
    "svm = SVC()\n",
    "rf = RandomForestClassifier()\n",
    "\n",
    "# Train and evaluate each classifier\n",
    "classifiers = {'KNN': knn, 'SVM': svm, 'Random Forest': rf}"
   ]
  },
  {
   "cell_type": "code",
   "execution_count": 6,
   "id": "2864c79d",
   "metadata": {},
   "outputs": [
    {
     "name": "stdout",
     "output_type": "stream",
     "text": [
      "KNN Classifier:\n",
      "Accuracy: 0.7507\n",
      "Precision: 0.5940\n",
      "Recall: 0.3182\n",
      "F1 Score: 0.4144\n",
      "\n"
     ]
    },
    {
     "name": "stderr",
     "output_type": "stream",
     "text": [
      "C:\\Users\\hp\\anaconda3\\Lib\\site-packages\\sklearn\\metrics\\_classification.py:1344: UndefinedMetricWarning: Precision is ill-defined and being set to 0.0 due to no predicted samples. Use `zero_division` parameter to control this behavior.\n",
      "  _warn_prf(average, modifier, msg_start, len(result))\n"
     ]
    },
    {
     "name": "stdout",
     "output_type": "stream",
     "text": [
      "SVM Classifier:\n",
      "Accuracy: 0.7228\n",
      "Precision: 0.0000\n",
      "Recall: 0.0000\n",
      "F1 Score: 0.0000\n",
      "\n",
      "Random Forest Classifier:\n",
      "Accuracy: 0.9271\n",
      "Precision: 0.9564\n",
      "Recall: 0.7722\n",
      "F1 Score: 0.8545\n",
      "\n"
     ]
    }
   ],
   "source": [
    "for name, clf in classifiers.items():\n",
    "    # Train the classifier\n",
    "    clf.fit(X_train, y_train)\n",
    "    \n",
    "    # Predict on the test set\n",
    "    y_pred = clf.predict(X_test)\n",
    "    \n",
    "    # Calculate evaluation metrics\n",
    "    accuracy = accuracy_score(y_test, y_pred)\n",
    "    precision = precision_score(y_test, y_pred)\n",
    "    recall = recall_score(y_test, y_pred)\n",
    "    f1 = f1_score(y_test, y_pred)\n",
    "    \n",
    "    # Print the evaluation metrics\n",
    "    print(f'{name} Classifier:')\n",
    "    print(f'Accuracy: {accuracy:.4f}')\n",
    "    print(f'Precision: {precision:.4f}')\n",
    "    print(f'Recall: {recall:.4f}')\n",
    "    print(f'F1 Score: {f1:.4f}')\n",
    "    print('')"
   ]
  },
  {
   "cell_type": "code",
   "execution_count": null,
   "id": "53ec8398",
   "metadata": {},
   "outputs": [],
   "source": []
  }
 ],
 "metadata": {
  "kernelspec": {
   "display_name": "Python 3 (ipykernel)",
   "language": "python",
   "name": "python3"
  },
  "language_info": {
   "codemirror_mode": {
    "name": "ipython",
    "version": 3
   },
   "file_extension": ".py",
   "mimetype": "text/x-python",
   "name": "python",
   "nbconvert_exporter": "python",
   "pygments_lexer": "ipython3",
   "version": "3.11.3"
  }
 },
 "nbformat": 4,
 "nbformat_minor": 5
}
